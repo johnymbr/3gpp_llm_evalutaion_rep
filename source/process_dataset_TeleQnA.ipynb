{
 "cells": [
  {
   "cell_type": "markdown",
   "id": "c0ed4d4a-0864-4bfb-b6ec-bab986f95994",
   "metadata": {},
   "source": [
    "# Process the TeleQnA Dataset\n",
    "\n",
    "Processing TeleQnA dataset to produces datasets to fine tunne a model and then test it."
   ]
  },
  {
   "cell_type": "code",
   "execution_count": 1,
   "id": "215d2459-1a30-4317-aa0a-2ba1c061dc5f",
   "metadata": {},
   "outputs": [
    {
     "name": "stdout",
     "output_type": "stream",
     "text": [
      "10000\n"
     ]
    }
   ],
   "source": [
    "import json\n",
    "\n",
    "teleQnA_questions_path = r\"../datasets/TeleQnA/TeleQnA.txt\"\n",
    "\n",
    "# Load TeleQnA dataset\n",
    "with open(teleQnA_questions_path, \"r\", encoding=\"utf-8\") as file:\n",
    "    teleQnA_dataset = json.load(file)\n",
    "print(len(teleQnA_dataset))"
   ]
  },
  {
   "cell_type": "code",
   "execution_count": 2,
   "id": "d6d24be3-0e90-46ac-b0fd-8b07a1819f79",
   "metadata": {},
   "outputs": [
    {
     "data": {
      "text/plain": [
       "{'question': 'What is the purpose of the Nmfaf_3daDataManagement_Deconfigure service operation? [3GPP Release 18]',\n",
       " 'option 1': 'To configure the MFAF to map data or analytics received by the MFAF to out-bound notification endpoints',\n",
       " 'option 2': 'To configure the MFAF to stop mapping data or analytics received by the MFAF to out-bound notification endpoints',\n",
       " 'option 3': 'To supply data or analytics from the MFAF to notification endpoints',\n",
       " 'option 4': 'To fetch data or analytics from the MFAF based on fetch instructions',\n",
       " 'answer': 'option 2: To configure the MFAF to stop mapping data or analytics received by the MFAF to out-bound notification endpoints',\n",
       " 'explanation': 'The Nmfaf_3daDataManagement_Deconfigure service operation is used to stop mapping data or analytics received by the MFAF to one or more out-bound notification endpoints.',\n",
       " 'category': 'Standards specifications'}"
      ]
     },
     "execution_count": 2,
     "metadata": {},
     "output_type": "execute_result"
    }
   ],
   "source": [
    "teleQnA_dataset[\"question 0\"]"
   ]
  },
  {
   "cell_type": "markdown",
   "id": "4be6f9ab-f800-447c-8d15-2d90fdaa3a9a",
   "metadata": {},
   "source": [
    "# Choose only Release 17 Questions\n",
    "\n",
    "Filter only the questions that contains \"3GPP Release 17\" in the question text and save in list"
   ]
  },
  {
   "cell_type": "code",
   "execution_count": 3,
   "id": "72abb72e-c5d6-4af2-b9ab-862a84052acf",
   "metadata": {},
   "outputs": [
    {
     "name": "stdout",
     "output_type": "stream",
     "text": [
      "Total questions with '[3GPP Release 17]': 733\n"
     ]
    }
   ],
   "source": [
    "rel17_questions = [\n",
    "    value for key, value in teleQnA_dataset.items() if \"[3GPP Release 17]\" in value[\"question\"]\n",
    "]\n",
    "\n",
    "print(f\"Total questions with '[3GPP Release 17]': {len(rel17_questions)}\")"
   ]
  },
  {
   "cell_type": "code",
   "execution_count": 4,
   "id": "abe82c85-a302-4757-823e-83cc0fa4ff1f",
   "metadata": {},
   "outputs": [
    {
     "data": {
      "text/plain": [
       "{'question': 'How does a supporting UE attach to the same core network operator from which it detached in a shared network? [3GPP Release 17]',\n",
       " 'option 1': 'It requests the core network node to remember its previous selection.',\n",
       " 'option 2': 'It uses information stored in the UE when it was detached.',\n",
       " 'option 3': 'It relies on the SIM/USIM card for information.',\n",
       " 'option 4': 'It performs a fresh attach procedure.',\n",
       " 'answer': 'option 2: It uses information stored in the UE when it was detached.',\n",
       " 'explanation': 'A supporting UE in a shared network attaches to the same core network operator it detached from by using information stored in the UE when it was detached.',\n",
       " 'category': 'Standards specifications'}"
      ]
     },
     "execution_count": 4,
     "metadata": {},
     "output_type": "execute_result"
    }
   ],
   "source": [
    "rel17_questions[0]"
   ]
  },
  {
   "cell_type": "code",
   "execution_count": 7,
   "id": "364b5c66-e260-4ad9-853a-8584e8062b88",
   "metadata": {},
   "outputs": [],
   "source": [
    "## Save the filtered questions to a new JSON file\n",
    "#rel17_questions_path = r\"../files/rel17_questions.json\"\n",
    "#with open(rel17_questions_path, \"w\", encoding=\"utf-8\") as file:\n",
    "#    json.dump(rel17_questions, file, indent=4, ensure_ascii=False)"
   ]
  },
  {
   "cell_type": "markdown",
   "id": "54b05e99-2553-4db8-a4d7-4f42c0e40df9",
   "metadata": {},
   "source": [
    "# Choose 100 questions\n",
    "* Create a dictionary to store the count of each category\n",
    "* Extract categories from the questions and count occurrences\n",
    "* Print unique categories and their counts"
   ]
  },
  {
   "cell_type": "code",
   "execution_count": 8,
   "id": "380ba092-e1ee-4a89-a679-f983ff9fbbf7",
   "metadata": {},
   "outputs": [
    {
     "name": "stdout",
     "output_type": "stream",
     "text": [
      "Categories found and counts:\n",
      "- Standards specifications: 641\n",
      "- Standards overview: 92\n"
     ]
    }
   ],
   "source": [
    "category_counts = {}\n",
    "for question in rel17_questions:\n",
    "    category = question.get(\"category\", \"Unknown\")\n",
    "    if category in category_counts:\n",
    "        category_counts[category] += 1\n",
    "    else:\n",
    "        category_counts[category] = 1\n",
    "\n",
    "print(\"Categories found and counts:\")\n",
    "for category, count in category_counts.items():\n",
    "    print(f\"- {category}: {count}\")"
   ]
  },
  {
   "cell_type": "code",
   "execution_count": 9,
   "id": "b5cb0c3e-4e6c-48b0-9914-212a14dad195",
   "metadata": {},
   "outputs": [],
   "source": [
    "number_questions = 100"
   ]
  },
  {
   "cell_type": "code",
   "execution_count": 16,
   "id": "dbb21b87-788b-43b8-8269-ef718715c6b0",
   "metadata": {},
   "outputs": [
    {
     "data": {
      "text/plain": [
       "100"
      ]
     },
     "execution_count": 16,
     "metadata": {},
     "output_type": "execute_result"
    }
   ],
   "source": [
    "# Calculate how many questions to take from each category\n",
    "questions_per_category = number_questions // len(category_counts)\n",
    "\n",
    "rel17_100_questions = []\n",
    "\n",
    "for category, count in category_counts.items():\n",
    "    category_questions = [q for q in rel17_questions if q.get(\"category\", \"Unknown\") == category]\n",
    "    rel17_100_questions.extend(category_questions[:questions_per_category])\n",
    "\n",
    "len(rel17_100_questions)"
   ]
  },
  {
   "cell_type": "code",
   "execution_count": 17,
   "id": "64ceec60-437a-4c23-b8f2-abaa3140ffce",
   "metadata": {},
   "outputs": [
    {
     "name": "stdout",
     "output_type": "stream",
     "text": [
      "\n",
      "Total selected questions: 100\n",
      "1. How does a supporting UE attach to the same core network operator from which it detached in a shared network? [3GPP Release 17] (Category: Standards specifications)\n",
      "2. When can the setting of the Privacy exception list be changed? [3GPP Release 17] (Category: Standards specifications)\n",
      "3. What should the UE consider if it cannot detect any cell meeting the S criterion on a frequency for sidelink operation? [3GPP Release 17] (Category: Standards specifications)\n",
      "4. When can target UEs be positioned for lawful interception services? [3GPP Release 17] (Category: Standards specifications)\n",
      "5. What are DCI formats with CRC scrambled by MCCH-RNTI or G-RNTI referred to as? [3GPP Release 17] (Category: Standards specifications)\n",
      "6. What kind of access can enterprise UEs have to non-public networks? [3GPP Release 17] (Category: Standards specifications)\n",
      "7. What action is necessary to get access to services in Idle mode? [3GPP Release 17] (Category: Standards specifications)\n",
      "8. What is the purpose of the User Configuration mechanism in the IMS Multimedia Telephony service? [3GPP Release 17] (Category: Standards specifications)\n",
      "9. What is the maximum number of PDU Sessions? [3GPP Release 17] (Category: Standards specifications)\n",
      "10. Which identity is used for indication of pre-emption in the downlink? [3GPP Release 17] (Category: Standards specifications)\n",
      "11. What does a UE determine when selecting a power for an S-SS/PSBCH block transmission occasion? [3GPP Release 17] (Category: Standards specifications)\n",
      "12. What is the purpose of the MasterInformationBlockSidelink message? [3GPP Release 17] (Category: Standards specifications)\n",
      "13. What is the purpose of interworking between a 5G core network and an EPC? [3GPP Release 17] (Category: Standards specifications)\n",
      "14. How does a non-supporting UE select a core network operator to serve it in a shared network? [3GPP Release 17] (Category: Standards specifications)\n",
      "15. For PSFCH transmission with HARQ-ACK information, how are the PRBs allocated? [3GPP Release 17] (Category: Standards specifications)\n",
      "16. What determines the energy detection threshold in channel access procedures? [3GPP Release 17] (Category: Standards specifications)\n",
      "17. What does VarConnEstFailReportList include? [3GPP Release 17] (Category: Standards specifications)\n",
      "18. Which interface is used to transfer short messages between the SGSN and SMS-GMSC/SMS-IWMSC? [3GPP Release 17] (Category: Standards specifications)\n",
      "19. What does the RRC protocol offer to upper layers? [3GPP Release 17] (Category: Standards specifications)\n",
      "20. What is SIPTO at the Local Network? [3GPP Release 17] (Category: Standards specifications)\n",
      "21. When is Paging with Wake Up Signal (WUS) used? [3GPP Release 17] (Category: Standards specifications)\n",
      "22. In unpaired spectrum operation, when are a DL BWP and an UL BWP linked together? [3GPP Release 17] (Category: Standards specifications)\n",
      "23. How is Extended Access Barring supported in shared networks? [3GPP Release 17] (Category: Standards specifications)\n",
      "24. What are the peak packet data rates supported by the Evolved Packet System on the radio access bearer? [3GPP Release 17] (Category: Standards specifications)\n",
      "25. What is a Personal IoT Network (PIN)? [3GPP Release 17] (Category: Standards specifications)\n",
      "26. What does the 5G system need to provide for mobile base station relays using 5G connectivity provided by a different MNO? [3GPP Release 17] (Category: Standards specifications)\n",
      "27. When can a UE apply Type 1 channel access procedures for a UL transmission(s)? [3GPP Release 17] (Category: Standards specifications)\n",
      "28. What does the timing advance command for a TAG indicate? [3GPP Release 17] (Category: Standards specifications)\n",
      "29. What is the high quality criterion for reporting a PLMN to the NAS in the E-UTRA and NB-IoT case? [3GPP Release 17] (Category: Standards specifications)\n",
      "30. What is the RRC buffer size for a UE? [3GPP Release 17] (Category: Standards specifications)\n",
      "31. What is one of the requirements for interworking between fixed access and Evolved Packet Core? [3GPP Release 17] (Category: Standards specifications)\n",
      "32. How is the modulation order (Qm) and target code rate (R) determined for PSSCH transmission? [3GPP Release 17] (Category: Standards specifications)\n",
      "33. Which parameter in SL-TxProfileList-r17 indicates compatibility with DRX? [3GPP Release 17] (Category: Standards specifications)\n",
      "34. In the context of pathloss models, what is O2I? [3GPP Release 17] (Category: Standards specifications)\n",
      "35. What is true about services not mentioned within the interaction clause? [3GPP Release 17] (Category: Standards specifications)\n",
      "36. What does the 5G system need to support for a UE accessing multiple network slices? [3GPP Release 17] (Category: Standards specifications)\n",
      "37. What does the 5G system prevent in terms of privacy for UEs using 5G LAN-type service? [3GPP Release 17] (Category: Standards specifications)\n",
      "38. What is associated with a time and/or date setting in the IMS Multimedia Telephony service? [3GPP Release 17] (Category: Standards specifications)\n",
      "39. Which entities can consume Management Data Analytics Service (MDAS)? [3GPP Release 17] (Category: Standards specifications)\n",
      "40. What type of frames does the Ethernet transport service need to support? [3GPP Release 17] (Category: Standards specifications)\n",
      "41. What is the typical connection density in factory automation applications? [3GPP Release 17] (Category: Standards specifications)\n",
      "42. What is the purpose of the Enhanced TNL Address Discovery with the X2 GW? [3GPP Release 17] (Category: Standards specifications)\n",
      "43. What is the purpose of providing secure means for communication scheduling information to an NPN in a 5G network? [3GPP Release 17] (Category: Standards specifications)\n",
      "44. What are the ThreshServingOffloadWLAN parameters used for? [3GPP Release 17] (Category: Standards specifications)\n",
      "45. What is the scrambling sequence generator initialized with for a PDCCH with the CRC scrambled by G-RNTI in a common search space? [3GPP Release 17] (Category: Standards specifications)\n",
      "46. Which RRC state is the UE in when no RRC connection is established? [3GPP Release 17] (Category: Standards specifications)\n",
      "47. How are the antenna elements placed on each antenna panel? [3GPP Release 17] (Category: Standards specifications)\n",
      "48. What information may be provided to an emergency services LCS Client without any request? [3GPP Release 17] (Category: Standards specifications)\n",
      "49. What is the purpose of cross-network slice coordination? [3GPP Release 17] (Category: Standards specifications)\n",
      "50. What does a RedCap UE expect if it monitors PDCCH according to Type1-PDCCH CSS set and does not monitor PDCCH according to Type2-PDCCH CSS set? [3GPP Release 17] (Category: Standards specifications)\n",
      "51. Which NGAP procedure is used for inter-system load balancing? [3GPP Release 17] (Category: Standards overview)\n",
      "52. What is covered by enhanced application layer support for V2X services? [3GPP Release 17] (Category: Standards overview)\n",
      "53. What does the Load-Balancing steering mode do? [3GPP Release 17] (Category: Standards overview)\n",
      "54. What is the main objective of intent driven management for service or network management? [3GPP Release 17] (Category: Standards overview)\n",
      "55. What does MINT stand for? [3GPP Release 17] (Category: Standards overview)\n",
      "56. What is the purpose of the Media Streaming AF Event Exposure work item? [3GPP Release 17] (Category: Standards overview)\n",
      "57. What is the purpose of load-balancing steering mode enhancements? [3GPP Release 17] (Category: Standards overview)\n",
      "58. What is a capability added in the V2X Application Enabler (VAE) layer? [3GPP Release 17] (Category: Standards overview)\n",
      "59. What is the purpose of the Edge Data Network (EDN) in enabling edge applications? [3GPP Release 17] (Category: Standards overview)\n",
      "60. What are the three features specified in TS 23.304 for 5G ProSe Direct Communication over NR based PC5 reference point? [3GPP Release 17] (Category: Standards overview)\n",
      "61. How is service continuity supported for specific slice(s)? [3GPP Release 17] (Category: Standards overview)\n",
      "62. How can UE power consumption due to false paging alarms be reduced? [3GPP Release 17] (Category: Standards overview)\n",
      "63. What is the purpose of Generic Bootstrapping Architecture (GBA) in 5GC? [3GPP Release 17] (Category: Standards overview)\n",
      "64. What is the purpose of the Small Data Transmission (SDT) feature in NR? [3GPP Release 17] (Category: Standards overview)\n",
      "65. What functionality does Signalling Based Activation provide? [3GPP Release 17] (Category: Standards overview)\n",
      "66. What are the enhancements for idle/inactive-mode UE power saving in NR? [3GPP Release 17] (Category: Standards overview)\n",
      "67. How does a Multi-USIM UE indicate to the network that it does not accept the paging and requests to return to CM-IDLE state? [3GPP Release 17] (Category: Standards overview)\n",
      "68. What is the purpose of the Slice-Maximum Bit Rate (S-MBR)? [3GPP Release 17] (Category: Standards overview)\n",
      "69. What aspects of the Disaster Roaming service are specified in TS 22.011 and TS 22.261? [3GPP Release 17] (Category: Standards overview)\n",
      "70. What is the purpose of the Provision of potential TRS/CSI-RS occasion(s) to idle/inactive-mode UEs? [3GPP Release 17] (Category: Standards overview)\n",
      "71. What does SL DRX stand for in the context of NR Sidelink? [3GPP Release 17] (Category: Standards overview)\n",
      "72. What is Non-Seamless WLAN offload (NSWO) in the context of 5GS? [3GPP Release 17] (Category: Standards overview)\n",
      "73. What is the purpose of the extended work item on 8K Television over 5G? [3GPP Release 17] (Category: Standards overview)\n",
      "74. In supporting an MA PDU Session, what does Rel-17 enable in terms of 3GPP access over EPC? [3GPP Release 17] (Category: Standards overview)\n",
      "75. In Rel-17, enhancements are made to several SEAL services. Which of the following is NOT an enhancement to SEAL services in Rel-17? [3GPP Release 17] (Category: Standards overview)\n",
      "76. Which procedures are impacted by MUSIM according to TS 23.502 and TS 23.401? [3GPP Release 17] (Category: Standards overview)\n",
      "77. How does a Multi-USIM UE modify the timing of paging occasions in 5GS? [3GPP Release 17] (Category: Standards overview)\n",
      "78. What is the purpose of the Network Slice AS Group (NSAG)? [3GPP Release 17] (Category: Standards overview)\n",
      "79. How are network nodes and NG-RAN configured with Disaster Condition? [3GPP Release 17] (Category: Standards overview)\n",
      "80. What is the purpose of the Access Traffic Steering, Switching and Splitting (ATSS) feature in 5G networks? [3GPP Release 17] (Category: Standards overview)\n",
      "81. What is the purpose of the Network Data Analytics Function (NWDAF)? [3GPP Release 17] (Category: Standards overview)\n",
      "82. What are the key functionalities of MDT enhancement? [3GPP Release 17] (Category: Standards overview)\n",
      "83. How can UE power saving be enabled by relaxing measurements for RLM/BFD? [3GPP Release 17] (Category: Standards overview)\n",
      "84. What does the 5G LAN VN group service charging specify? [3GPP Release 17] (Category: Standards overview)\n",
      "85. Which documents specify the information to be pre-configured or stored in USIM for Disaster Roaming service? [3GPP Release 17] (Category: Standards overview)\n",
      "86. What is the purpose of cyber-physical control applications in vertical domains? [3GPP Release 17] (Category: Standards overview)\n",
      "87. Where are the security aspects on the UE authentication during the authentication procedure specified? [3GPP Release 17] (Category: Standards overview)\n",
      "88. What is the purpose of the Work Item 'Enhancement of Private Network support for NG-RAN'? [3GPP Release 17] (Category: Standards overview)\n",
      "89. Which 3GPP system entities are impacted by MUSIM? [3GPP Release 17] (Category: Standards overview)\n",
      "90. What is specified in TS 24.588 related to V2X services? [3GPP Release 17] (Category: Standards overview)\n",
      "91. What is the purpose of the RedCap UE type? [3GPP Release 17] (Category: Standards overview)\n",
      "92. What are the objectives of the schemes introduced in the MUSIM work item for LTE/NR? [3GPP Release 17] (Category: Standards overview)\n",
      "93. Which document specifies the MUSIM-specific rejection cause for EPS? [3GPP Release 17] (Category: Standards overview)\n",
      "94. What is the purpose of file management in network management? [3GPP Release 17] (Category: Standards overview)\n",
      "95. Under what conditions does the UE ignore PDCCH skipping? [3GPP Release 17] (Category: Standards overview)\n",
      "96. What is the purpose of the ECM Work Item and the resulting specification in TS 28.538? [3GPP Release 17] (Category: Standards overview)\n",
      "97. What is the purpose of Enhanced Closed loop SLS Assurance solution? [3GPP Release 17] (Category: Standards overview)\n",
      "98. What is the purpose of the UE-assistance indication in load-balancing steering mode? [3GPP Release 17] (Category: Standards overview)\n",
      "99. What is the purpose of the Network notification objective introduced by MUSIM for LTE/NR? [3GPP Release 17] (Category: Standards overview)\n",
      "100. What does the Closed loop SLS Assurance solution in TS 28.535 and TS 28.536 provide? [3GPP Release 17] (Category: Standards overview)\n"
     ]
    }
   ],
   "source": [
    "# Print the total number of selected questions\n",
    "print(f\"\\nTotal selected questions: {len(rel17_100_questions)}\")\n",
    "for idx, question in enumerate(rel17_100_questions):\n",
    "    print(f\"{idx + 1}. {question['question']} (Category: {question['category']})\")"
   ]
  },
  {
   "cell_type": "code",
   "execution_count": 18,
   "id": "f3b36af0-f030-4177-8c61-4d33efea229f",
   "metadata": {},
   "outputs": [],
   "source": [
    "## Save the selected questions to a new JSON file\n",
    "#rel17_100_questions_path = r\"../files/rel17_100_questions.json\"\n",
    "#with open(rel17_100_questions_path, \"w\", encoding=\"utf-8\") as file:\n",
    "#    json.dump(rel17_100_questions, file, indent=4, ensure_ascii=False)"
   ]
  },
  {
   "cell_type": "markdown",
   "id": "e4b9ad15-cabc-4baf-a28e-7e14a55d9814",
   "metadata": {},
   "source": [
    "# Choose 200 questions"
   ]
  },
  {
   "cell_type": "code",
   "execution_count": 21,
   "id": "5c4c5f22-2949-4e7f-9d62-f1bb5a2737f8",
   "metadata": {},
   "outputs": [
    {
     "data": {
      "text/plain": [
       "200"
      ]
     },
     "execution_count": 21,
     "metadata": {},
     "output_type": "execute_result"
    }
   ],
   "source": [
    "number_questions = 216 # Only 92 questions of Standards overview\n",
    "\n",
    "# Calculate how many questions to take from each category\n",
    "questions_per_category = number_questions // len(category_counts)\n",
    "\n",
    "rel17_200_questions = []\n",
    "\n",
    "for category, count in category_counts.items():\n",
    "    category_questions = [q for q in rel17_questions if q.get(\"category\", \"Unknown\") == category]\n",
    "    rel17_200_questions.extend(category_questions[:questions_per_category])\n",
    "\n",
    "len(rel17_200_questions)"
   ]
  },
  {
   "cell_type": "code",
   "execution_count": 22,
   "id": "b525059f-b5b1-47c9-bb6f-8935af2dfbcf",
   "metadata": {},
   "outputs": [],
   "source": [
    "# Save the selected questions to a new JSON file\n",
    "rel17_200_questions_path = r\"../files/rel17_200_questions.json\"\n",
    "with open(rel17_200_questions_path, \"w\", encoding=\"utf-8\") as file:\n",
    "    json.dump(rel17_200_questions, file, indent=4, ensure_ascii=False)"
   ]
  },
  {
   "cell_type": "markdown",
   "id": "2bf290a0-fdf1-4f17-bdda-f58aadf440df",
   "metadata": {},
   "source": [
    "# Take only release 18 Questions\n",
    "\n",
    "* Filter only the questions that contain \"[3GPP Release 18]\" in the question text and save in a list"
   ]
  },
  {
   "cell_type": "code",
   "execution_count": 23,
   "id": "2f0f207d-ed26-4fa3-a90e-e7c013923a6d",
   "metadata": {},
   "outputs": [
    {
     "name": "stdout",
     "output_type": "stream",
     "text": [
      "Total questions with '[3GPP Release 18]': 780\n"
     ]
    }
   ],
   "source": [
    "rel18_questions = [\n",
    "    value for key, value in teleQnA_dataset.items() if \"[3GPP Release 18]\" in value[\"question\"]\n",
    "]\n",
    "\n",
    "print(f\"Total questions with '[3GPP Release 18]': {len(rel18_questions)}\")"
   ]
  },
  {
   "cell_type": "code",
   "execution_count": 25,
   "id": "39abcbde-6f9b-4469-9a88-39e804dea77a",
   "metadata": {},
   "outputs": [],
   "source": [
    "## Save the filtered questions to a new JSON file\n",
    "#rel18_questions_path = r\"../files/rel18_questions.json\"\n",
    "#with open(rel18_questions_path, \"w\", encoding=\"utf-8\") as file:\n",
    "#    json.dump(rel18_questions, file, indent=4, ensure_ascii=False)"
   ]
  },
  {
   "cell_type": "markdown",
   "id": "3e1349d5-6cc6-4cbd-8a5d-63ca092e5571",
   "metadata": {},
   "source": [
    "# Separate TeleQnA without rel 17 and 18 Questions"
   ]
  },
  {
   "cell_type": "code",
   "execution_count": 26,
   "id": "5b0daca0-ff65-43b3-bd0a-bb81181ea42d",
   "metadata": {},
   "outputs": [
    {
     "data": {
      "text/plain": [
       "8487"
      ]
     },
     "execution_count": 26,
     "metadata": {},
     "output_type": "execute_result"
    }
   ],
   "source": [
    "import json\n",
    "\n",
    "questions_no_rel_17_18 = [value for key, value in teleQnA_dataset.items() if (value not in rel17_questions) and (value not in rel18_questions)]\n",
    "len(questions_no_rel_17_18)"
   ]
  },
  {
   "cell_type": "code",
   "execution_count": 28,
   "id": "c1a59a3f-c211-4c5e-9b4e-1bedefb3fd79",
   "metadata": {},
   "outputs": [],
   "source": [
    "## Save the filtered questions to a new JSON file\n",
    "#questions_no_rel_17_18_path = r\"../files/no_rel_17_18_questions.json\"\n",
    "#with open(questions_no_rel_17_18_path, \"w\", encoding=\"utf-8\") as file:\n",
    "#    json.dump(questions_no_rel_17_18, file, indent=4, ensure_ascii=False)"
   ]
  },
  {
   "cell_type": "markdown",
   "id": "85fff377-48b8-4876-a1f0-9508cad8c373",
   "metadata": {},
   "source": [
    "# Choose data were not in Fine Tunning\n",
    "\n",
    "## Questions out of release 17 and 18 that were not used in training"
   ]
  },
  {
   "cell_type": "code",
   "execution_count": 29,
   "id": "a95948ed-cd7d-44ae-a9e6-54915980a563",
   "metadata": {},
   "outputs": [
    {
     "name": "stdout",
     "output_type": "stream",
     "text": [
      "8487\n"
     ]
    }
   ],
   "source": [
    "# Path to the TeleQnA processed question in JSON file\n",
    "no_rel_17_18_questions_path = r\"../files/no_rel_17_18_questions.json\"\n",
    "\n",
    "# Load the TeleQnA data withou release 17 and 18\n",
    "with open(no_rel_17_18_questions_path, \"r\", encoding=\"utf-8\") as file:\n",
    "    no_rel_17_18_questions = json.load(file)\n",
    "print(len(no_rel_17_18_questions))"
   ]
  },
  {
   "cell_type": "code",
   "execution_count": 30,
   "id": "61f9f766-0696-4829-b1fd-faedb3a9a5fa",
   "metadata": {},
   "outputs": [
    {
     "name": "stdout",
     "output_type": "stream",
     "text": [
      "3500\n"
     ]
    }
   ],
   "source": [
    "training_dataset_length = 3500\n",
    "training_dataset = no_rel_17_18_questions[:training_dataset_length]\n",
    "print(len(training_dataset))"
   ]
  },
  {
   "cell_type": "code",
   "execution_count": 31,
   "id": "439bb4e7-d9c5-48fa-9ff9-c2c7eed083b9",
   "metadata": {},
   "outputs": [
    {
     "name": "stdout",
     "output_type": "stream",
     "text": [
      "4987\n"
     ]
    }
   ],
   "source": [
    "no_training_dataset = no_rel_17_18_questions[training_dataset_length:]\n",
    "print(len(no_training_dataset))"
   ]
  },
  {
   "cell_type": "code",
   "execution_count": 32,
   "id": "51200528-d406-4786-bdf5-d0fabfb4c2f8",
   "metadata": {},
   "outputs": [],
   "source": [
    "# Save the filtered questions to a new JSON file\n",
    "other_rel_questions_path = r\"../files/other_rel_questions.json\"\n",
    "with open(other_rel_questions_path, \"w\", encoding=\"utf-8\") as file:\n",
    "    json.dump(no_training_dataset, file, indent=4, ensure_ascii=False)"
   ]
  },
  {
   "cell_type": "markdown",
   "id": "4caa5576-7e02-4b91-9bb6-ca8688cc9cdd",
   "metadata": {},
   "source": [
    "# Questions in release 17 that were not used in training"
   ]
  },
  {
   "cell_type": "code",
   "execution_count": 33,
   "id": "35d93a47-c64d-4a79-82da-9f9d483260de",
   "metadata": {},
   "outputs": [
    {
     "name": "stdout",
     "output_type": "stream",
     "text": [
      "733\n"
     ]
    }
   ],
   "source": [
    "# Path to the TeleQnA processed question in JSON file\n",
    "rel17_question_path = r\"../files/rel17_questions.json\"\n",
    "\n",
    "with open(rel17_question_path, \"r\", encoding=\"utf-8\") as file:\n",
    "    rel17_questions = json.load(file)\n",
    "\n",
    "print(len(rel17_questions))"
   ]
  },
  {
   "cell_type": "code",
   "execution_count": 34,
   "id": "cf1b9381-9315-4182-b0ba-94c65409641d",
   "metadata": {},
   "outputs": [
    {
     "name": "stdout",
     "output_type": "stream",
     "text": [
      "200\n"
     ]
    }
   ],
   "source": [
    "# Path to the TeleQnA processed question in JSON file\n",
    "rel17_200_questions_path = r\"../files/rel17_200_questions.json\"\n",
    "\n",
    "with open(rel17_200_questions_path, \"r\", encoding=\"utf-8\") as file:\n",
    "    rel17_200_questions = json.load(file)\n",
    "\n",
    "print(len(rel17_200_questions))"
   ]
  },
  {
   "cell_type": "code",
   "execution_count": 35,
   "id": "efbd3978-e849-4f56-b779-2d461ad92f10",
   "metadata": {},
   "outputs": [
    {
     "name": "stdout",
     "output_type": "stream",
     "text": [
      "533\n"
     ]
    }
   ],
   "source": [
    "rel17_other_questions = [q for q in rel17_questions if q not in rel17_200_questions]\n",
    "print(len(rel17_other_questions))"
   ]
  },
  {
   "cell_type": "code",
   "execution_count": 36,
   "id": "691455c6-da71-4c9d-a8e1-51fe7e0d73fc",
   "metadata": {},
   "outputs": [
    {
     "name": "stdout",
     "output_type": "stream",
     "text": [
      "233\n"
     ]
    }
   ],
   "source": [
    "rel17_other_questions_length = 500\n",
    "rel17_no_training_questions = rel17_200_questions + rel17_other_questions[rel17_other_questions_length:]\n",
    "print(len(rel17_no_training_questions))"
   ]
  },
  {
   "cell_type": "markdown",
   "id": "2e8773a5-dc03-4fc0-9ff8-b71c3b0248c1",
   "metadata": {},
   "source": [
    "# Final possible test dataset (Questions with '[3GPP Release 18]' not included, possible to use in other tests)"
   ]
  },
  {
   "cell_type": "code",
   "execution_count": 37,
   "id": "949fbf93-051d-4581-bd30-fd863912547f",
   "metadata": {},
   "outputs": [
    {
     "name": "stdout",
     "output_type": "stream",
     "text": [
      "5220\n"
     ]
    }
   ],
   "source": [
    "possible_test_dataset = rel17_no_training_questions + no_training_dataset\n",
    "print(len(possible_test_dataset)) # 233 questions of release 17 + 4987 other questions (release 18 not included)\n",
    "## 500 questions of release 17 were used for traning and 3500 of the other questions were used for traning. Total of 4000 questions used for traning"
   ]
  },
  {
   "cell_type": "code",
   "execution_count": 38,
   "id": "307c96bc-295c-4cda-8e08-325c4346c24b",
   "metadata": {},
   "outputs": [],
   "source": [
    "# Save the filtered questions to a new JSON file\n",
    "possible_test_dataset_path = r\"../files/possible_test_dataset.json\"\n",
    "with open(possible_test_dataset_path, \"w\", encoding=\"utf-8\") as file:\n",
    "    json.dump(possible_test_dataset, file, indent=4, ensure_ascii=False)"
   ]
  }
 ],
 "metadata": {
  "kernelspec": {
   "display_name": "Python 3 (ipykernel)",
   "language": "python",
   "name": "python3"
  },
  "language_info": {
   "codemirror_mode": {
    "name": "ipython",
    "version": 3
   },
   "file_extension": ".py",
   "mimetype": "text/x-python",
   "name": "python",
   "nbconvert_exporter": "python",
   "pygments_lexer": "ipython3",
   "version": "3.12.9"
  }
 },
 "nbformat": 4,
 "nbformat_minor": 5
}
