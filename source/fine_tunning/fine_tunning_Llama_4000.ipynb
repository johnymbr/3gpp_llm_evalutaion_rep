{
 "cells": [
  {
   "cell_type": "code",
   "execution_count": 1,
   "id": "2027ee1a-a3a3-4517-a2df-8b2fa3da3f0b",
   "metadata": {},
   "outputs": [
    {
     "name": "stdout",
     "output_type": "stream",
     "text": [
      "Torch Version:  2.6.0+cu126\n",
      "12.6\n",
      "90800\n",
      "Usando dispositivo: cuda\n"
     ]
    }
   ],
   "source": [
    "import torch\n",
    "print(\"Torch Version: \", torch.__version__)\n",
    "print(torch.version.cuda)\n",
    "print(torch.backends.cudnn.version())\n",
    "#print(\"CUDA Available: \", torch.cuda.is_available())\n",
    "#print(\"CUDA Device Name: \", torch.cuda.get_device_name(0))\n",
    "#torch.cuda.empty_cache()\n",
    "\n",
    "# Verificar se CUDA está disponível para acelerar o processamento\n",
    "device = 'cuda' if torch.cuda.is_available() else 'cpu'\n",
    "print(f\"Usando dispositivo: {device}\")"
   ]
  },
  {
   "cell_type": "code",
   "execution_count": null,
   "id": "de3dd8dd-89cd-4449-9ceb-26f38c32cd40",
   "metadata": {},
   "outputs": [],
   "source": []
  }
 ],
 "metadata": {
  "kernelspec": {
   "display_name": "Python 3 (ipykernel)",
   "language": "python",
   "name": "python3"
  },
  "language_info": {
   "codemirror_mode": {
    "name": "ipython",
    "version": 3
   },
   "file_extension": ".py",
   "mimetype": "text/x-python",
   "name": "python",
   "nbconvert_exporter": "python",
   "pygments_lexer": "ipython3",
   "version": "3.13.2"
  }
 },
 "nbformat": 4,
 "nbformat_minor": 5
}
